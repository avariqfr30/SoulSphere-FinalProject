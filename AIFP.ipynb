{
  "cells": [
    {
      "cell_type": "code",
      "execution_count": 1,
      "metadata": {
        "colab": {
          "base_uri": "https://localhost:8080/"
        },
        "id": "Q7-hmaAQSHQj",
        "outputId": "ee7c7be7-c595-425e-9b59-9346cdd7d6ed"
      },
      "outputs": [
        {
          "name": "stdout",
          "output_type": "stream",
          "text": [
            "Requirement already satisfied: tensorflow in c:\\users\\avari\\appdata\\local\\packages\\pythonsoftwarefoundation.python.3.10_qbz5n2kfra8p0\\localcache\\local-packages\\python310\\site-packages (2.15.0)\n",
            "Requirement already satisfied: tensorflow-intel==2.15.0 in c:\\users\\avari\\appdata\\local\\packages\\pythonsoftwarefoundation.python.3.10_qbz5n2kfra8p0\\localcache\\local-packages\\python310\\site-packages (from tensorflow) (2.15.0)\n",
            "Requirement already satisfied: setuptools in c:\\program files\\windowsapps\\pythonsoftwarefoundation.python.3.10_3.10.3056.0_x64__qbz5n2kfra8p0\\lib\\site-packages (from tensorflow-intel==2.15.0->tensorflow) (65.5.0)\n",
            "Requirement already satisfied: absl-py>=1.0.0 in c:\\users\\avari\\appdata\\local\\packages\\pythonsoftwarefoundation.python.3.10_qbz5n2kfra8p0\\localcache\\local-packages\\python310\\site-packages (from tensorflow-intel==2.15.0->tensorflow) (2.0.0)\n",
            "Requirement already satisfied: tensorboard<2.16,>=2.15 in c:\\users\\avari\\appdata\\local\\packages\\pythonsoftwarefoundation.python.3.10_qbz5n2kfra8p0\\localcache\\local-packages\\python310\\site-packages (from tensorflow-intel==2.15.0->tensorflow) (2.15.1)\n",
            "Requirement already satisfied: flatbuffers>=23.5.26 in c:\\users\\avari\\appdata\\local\\packages\\pythonsoftwarefoundation.python.3.10_qbz5n2kfra8p0\\localcache\\local-packages\\python310\\site-packages (from tensorflow-intel==2.15.0->tensorflow) (23.5.26)\n",
            "Requirement already satisfied: gast!=0.5.0,!=0.5.1,!=0.5.2,>=0.2.1 in c:\\users\\avari\\appdata\\local\\packages\\pythonsoftwarefoundation.python.3.10_qbz5n2kfra8p0\\localcache\\local-packages\\python310\\site-packages (from tensorflow-intel==2.15.0->tensorflow) (0.5.4)\n",
            "Requirement already satisfied: google-pasta>=0.1.1 in c:\\users\\avari\\appdata\\local\\packages\\pythonsoftwarefoundation.python.3.10_qbz5n2kfra8p0\\localcache\\local-packages\\python310\\site-packages (from tensorflow-intel==2.15.0->tensorflow) (0.2.0)\n",
            "Requirement already satisfied: numpy<2.0.0,>=1.23.5 in c:\\users\\avari\\appdata\\local\\packages\\pythonsoftwarefoundation.python.3.10_qbz5n2kfra8p0\\localcache\\local-packages\\python310\\site-packages (from tensorflow-intel==2.15.0->tensorflow) (1.26.2)\n",
            "Requirement already satisfied: libclang>=13.0.0 in c:\\users\\avari\\appdata\\local\\packages\\pythonsoftwarefoundation.python.3.10_qbz5n2kfra8p0\\localcache\\local-packages\\python310\\site-packages (from tensorflow-intel==2.15.0->tensorflow) (16.0.6)\n",
            "Requirement already satisfied: six>=1.12.0 in c:\\users\\avari\\appdata\\local\\packages\\pythonsoftwarefoundation.python.3.10_qbz5n2kfra8p0\\localcache\\local-packages\\python310\\site-packages (from tensorflow-intel==2.15.0->tensorflow) (1.16.0)\n",
            "Requirement already satisfied: protobuf!=4.21.0,!=4.21.1,!=4.21.2,!=4.21.3,!=4.21.4,!=4.21.5,<5.0.0dev,>=3.20.3 in c:\\users\\avari\\appdata\\local\\packages\\pythonsoftwarefoundation.python.3.10_qbz5n2kfra8p0\\localcache\\local-packages\\python310\\site-packages (from tensorflow-intel==2.15.0->tensorflow) (4.23.4)\n",
            "Requirement already satisfied: ml-dtypes~=0.2.0 in c:\\users\\avari\\appdata\\local\\packages\\pythonsoftwarefoundation.python.3.10_qbz5n2kfra8p0\\localcache\\local-packages\\python310\\site-packages (from tensorflow-intel==2.15.0->tensorflow) (0.2.0)\n",
            "Requirement already satisfied: packaging in c:\\users\\avari\\appdata\\local\\packages\\pythonsoftwarefoundation.python.3.10_qbz5n2kfra8p0\\localcache\\local-packages\\python310\\site-packages (from tensorflow-intel==2.15.0->tensorflow) (23.2)\n",
            "Requirement already satisfied: h5py>=2.9.0 in c:\\users\\avari\\appdata\\local\\packages\\pythonsoftwarefoundation.python.3.10_qbz5n2kfra8p0\\localcache\\local-packages\\python310\\site-packages (from tensorflow-intel==2.15.0->tensorflow) (3.10.0)\n",
            "Requirement already satisfied: opt-einsum>=2.3.2 in c:\\users\\avari\\appdata\\local\\packages\\pythonsoftwarefoundation.python.3.10_qbz5n2kfra8p0\\localcache\\local-packages\\python310\\site-packages (from tensorflow-intel==2.15.0->tensorflow) (3.3.0)\n",
            "Requirement already satisfied: wrapt<1.15,>=1.11.0 in c:\\users\\avari\\appdata\\local\\packages\\pythonsoftwarefoundation.python.3.10_qbz5n2kfra8p0\\localcache\\local-packages\\python310\\site-packages (from tensorflow-intel==2.15.0->tensorflow) (1.14.1)\n",
            "Requirement already satisfied: keras<2.16,>=2.15.0 in c:\\users\\avari\\appdata\\local\\packages\\pythonsoftwarefoundation.python.3.10_qbz5n2kfra8p0\\localcache\\local-packages\\python310\\site-packages (from tensorflow-intel==2.15.0->tensorflow) (2.15.0)\n",
            "Requirement already satisfied: astunparse>=1.6.0 in c:\\users\\avari\\appdata\\local\\packages\\pythonsoftwarefoundation.python.3.10_qbz5n2kfra8p0\\localcache\\local-packages\\python310\\site-packages (from tensorflow-intel==2.15.0->tensorflow) (1.6.3)\n",
            "Requirement already satisfied: typing-extensions>=3.6.6 in c:\\users\\avari\\appdata\\local\\packages\\pythonsoftwarefoundation.python.3.10_qbz5n2kfra8p0\\localcache\\local-packages\\python310\\site-packages (from tensorflow-intel==2.15.0->tensorflow) (4.9.0)\n",
            "Requirement already satisfied: tensorflow-io-gcs-filesystem>=0.23.1 in c:\\users\\avari\\appdata\\local\\packages\\pythonsoftwarefoundation.python.3.10_qbz5n2kfra8p0\\localcache\\local-packages\\python310\\site-packages (from tensorflow-intel==2.15.0->tensorflow) (0.31.0)\n",
            "Requirement already satisfied: tensorflow-estimator<2.16,>=2.15.0 in c:\\users\\avari\\appdata\\local\\packages\\pythonsoftwarefoundation.python.3.10_qbz5n2kfra8p0\\localcache\\local-packages\\python310\\site-packages (from tensorflow-intel==2.15.0->tensorflow) (2.15.0)\n",
            "Requirement already satisfied: termcolor>=1.1.0 in c:\\users\\avari\\appdata\\local\\packages\\pythonsoftwarefoundation.python.3.10_qbz5n2kfra8p0\\localcache\\local-packages\\python310\\site-packages (from tensorflow-intel==2.15.0->tensorflow) (2.4.0)\n",
            "Requirement already satisfied: grpcio<2.0,>=1.24.3 in c:\\users\\avari\\appdata\\local\\packages\\pythonsoftwarefoundation.python.3.10_qbz5n2kfra8p0\\localcache\\local-packages\\python310\\site-packages (from tensorflow-intel==2.15.0->tensorflow) (1.60.0)\n",
            "Requirement already satisfied: wheel<1.0,>=0.23.0 in c:\\users\\avari\\appdata\\local\\packages\\pythonsoftwarefoundation.python.3.10_qbz5n2kfra8p0\\localcache\\local-packages\\python310\\site-packages (from astunparse>=1.6.0->tensorflow-intel==2.15.0->tensorflow) (0.42.0)\n",
            "Requirement already satisfied: markdown>=2.6.8 in c:\\users\\avari\\appdata\\local\\packages\\pythonsoftwarefoundation.python.3.10_qbz5n2kfra8p0\\localcache\\local-packages\\python310\\site-packages (from tensorboard<2.16,>=2.15->tensorflow-intel==2.15.0->tensorflow) (3.5.1)\n",
            "Requirement already satisfied: tensorboard-data-server<0.8.0,>=0.7.0 in c:\\users\\avari\\appdata\\local\\packages\\pythonsoftwarefoundation.python.3.10_qbz5n2kfra8p0\\localcache\\local-packages\\python310\\site-packages (from tensorboard<2.16,>=2.15->tensorflow-intel==2.15.0->tensorflow) (0.7.2)\n",
            "Requirement already satisfied: werkzeug>=1.0.1 in c:\\users\\avari\\appdata\\local\\packages\\pythonsoftwarefoundation.python.3.10_qbz5n2kfra8p0\\localcache\\local-packages\\python310\\site-packages (from tensorboard<2.16,>=2.15->tensorflow-intel==2.15.0->tensorflow) (3.0.1)\n",
            "Requirement already satisfied: google-auth<3,>=1.6.3 in c:\\users\\avari\\appdata\\local\\packages\\pythonsoftwarefoundation.python.3.10_qbz5n2kfra8p0\\localcache\\local-packages\\python310\\site-packages (from tensorboard<2.16,>=2.15->tensorflow-intel==2.15.0->tensorflow) (2.25.2)\n",
            "Requirement already satisfied: google-auth-oauthlib<2,>=0.5 in c:\\users\\avari\\appdata\\local\\packages\\pythonsoftwarefoundation.python.3.10_qbz5n2kfra8p0\\localcache\\local-packages\\python310\\site-packages (from tensorboard<2.16,>=2.15->tensorflow-intel==2.15.0->tensorflow) (1.2.0)\n",
            "Requirement already satisfied: requests<3,>=2.21.0 in c:\\users\\avari\\appdata\\local\\packages\\pythonsoftwarefoundation.python.3.10_qbz5n2kfra8p0\\localcache\\local-packages\\python310\\site-packages (from tensorboard<2.16,>=2.15->tensorflow-intel==2.15.0->tensorflow) (2.31.0)\n",
            "Requirement already satisfied: rsa<5,>=3.1.4 in c:\\users\\avari\\appdata\\local\\packages\\pythonsoftwarefoundation.python.3.10_qbz5n2kfra8p0\\localcache\\local-packages\\python310\\site-packages (from google-auth<3,>=1.6.3->tensorboard<2.16,>=2.15->tensorflow-intel==2.15.0->tensorflow) (4.9)\n",
            "Requirement already satisfied: cachetools<6.0,>=2.0.0 in c:\\users\\avari\\appdata\\local\\packages\\pythonsoftwarefoundation.python.3.10_qbz5n2kfra8p0\\localcache\\local-packages\\python310\\site-packages (from google-auth<3,>=1.6.3->tensorboard<2.16,>=2.15->tensorflow-intel==2.15.0->tensorflow) (5.3.2)\n",
            "Requirement already satisfied: pyasn1-modules>=0.2.1 in c:\\users\\avari\\appdata\\local\\packages\\pythonsoftwarefoundation.python.3.10_qbz5n2kfra8p0\\localcache\\local-packages\\python310\\site-packages (from google-auth<3,>=1.6.3->tensorboard<2.16,>=2.15->tensorflow-intel==2.15.0->tensorflow) (0.3.0)\n",
            "Requirement already satisfied: requests-oauthlib>=0.7.0 in c:\\users\\avari\\appdata\\local\\packages\\pythonsoftwarefoundation.python.3.10_qbz5n2kfra8p0\\localcache\\local-packages\\python310\\site-packages (from google-auth-oauthlib<2,>=0.5->tensorboard<2.16,>=2.15->tensorflow-intel==2.15.0->tensorflow) (1.3.1)\n",
            "Requirement already satisfied: idna<4,>=2.5 in c:\\users\\avari\\appdata\\local\\packages\\pythonsoftwarefoundation.python.3.10_qbz5n2kfra8p0\\localcache\\local-packages\\python310\\site-packages (from requests<3,>=2.21.0->tensorboard<2.16,>=2.15->tensorflow-intel==2.15.0->tensorflow) (3.6)\n",
            "Requirement already satisfied: charset-normalizer<4,>=2 in c:\\users\\avari\\appdata\\local\\packages\\pythonsoftwarefoundation.python.3.10_qbz5n2kfra8p0\\localcache\\local-packages\\python310\\site-packages (from requests<3,>=2.21.0->tensorboard<2.16,>=2.15->tensorflow-intel==2.15.0->tensorflow) (3.3.2)\n",
            "Requirement already satisfied: certifi>=2017.4.17 in c:\\users\\avari\\appdata\\local\\packages\\pythonsoftwarefoundation.python.3.10_qbz5n2kfra8p0\\localcache\\local-packages\\python310\\site-packages (from requests<3,>=2.21.0->tensorboard<2.16,>=2.15->tensorflow-intel==2.15.0->tensorflow) (2023.11.17)\n",
            "Requirement already satisfied: urllib3<3,>=1.21.1 in c:\\users\\avari\\appdata\\local\\packages\\pythonsoftwarefoundation.python.3.10_qbz5n2kfra8p0\\localcache\\local-packages\\python310\\site-packages (from requests<3,>=2.21.0->tensorboard<2.16,>=2.15->tensorflow-intel==2.15.0->tensorflow) (2.1.0)\n",
            "Requirement already satisfied: MarkupSafe>=2.1.1 in c:\\users\\avari\\appdata\\local\\packages\\pythonsoftwarefoundation.python.3.10_qbz5n2kfra8p0\\localcache\\local-packages\\python310\\site-packages (from werkzeug>=1.0.1->tensorboard<2.16,>=2.15->tensorflow-intel==2.15.0->tensorflow) (2.1.3)\n",
            "Requirement already satisfied: pyasn1<0.6.0,>=0.4.6 in c:\\users\\avari\\appdata\\local\\packages\\pythonsoftwarefoundation.python.3.10_qbz5n2kfra8p0\\localcache\\local-packages\\python310\\site-packages (from pyasn1-modules>=0.2.1->google-auth<3,>=1.6.3->tensorboard<2.16,>=2.15->tensorflow-intel==2.15.0->tensorflow) (0.5.1)\n",
            "Requirement already satisfied: oauthlib>=3.0.0 in c:\\users\\avari\\appdata\\local\\packages\\pythonsoftwarefoundation.python.3.10_qbz5n2kfra8p0\\localcache\\local-packages\\python310\\site-packages (from requests-oauthlib>=0.7.0->google-auth-oauthlib<2,>=0.5->tensorboard<2.16,>=2.15->tensorflow-intel==2.15.0->tensorflow) (3.2.2)\n"
          ]
        },
        {
          "name": "stderr",
          "output_type": "stream",
          "text": [
            "\n",
            "[notice] A new release of pip is available: 23.0.1 -> 23.3.1\n",
            "[notice] To update, run: C:\\Users\\avari\\AppData\\Local\\Microsoft\\WindowsApps\\PythonSoftwareFoundation.Python.3.10_qbz5n2kfra8p0\\python.exe -m pip install --upgrade pip\n"
          ]
        },
        {
          "name": "stdout",
          "output_type": "stream",
          "text": [
            "Requirement already satisfied: nltk in c:\\users\\avari\\appdata\\local\\packages\\pythonsoftwarefoundation.python.3.10_qbz5n2kfra8p0\\localcache\\local-packages\\python310\\site-packages (3.8.1)\n",
            "Requirement already satisfied: click in c:\\users\\avari\\appdata\\local\\packages\\pythonsoftwarefoundation.python.3.10_qbz5n2kfra8p0\\localcache\\local-packages\\python310\\site-packages (from nltk) (8.1.7)\n",
            "Requirement already satisfied: joblib in c:\\users\\avari\\appdata\\local\\packages\\pythonsoftwarefoundation.python.3.10_qbz5n2kfra8p0\\localcache\\local-packages\\python310\\site-packages (from nltk) (1.3.2)\n",
            "Requirement already satisfied: regex>=2021.8.3 in c:\\users\\avari\\appdata\\local\\packages\\pythonsoftwarefoundation.python.3.10_qbz5n2kfra8p0\\localcache\\local-packages\\python310\\site-packages (from nltk) (2023.10.3)\n",
            "Requirement already satisfied: tqdm in c:\\users\\avari\\appdata\\local\\packages\\pythonsoftwarefoundation.python.3.10_qbz5n2kfra8p0\\localcache\\local-packages\\python310\\site-packages (from nltk) (4.66.1)\n",
            "Requirement already satisfied: colorama in c:\\users\\avari\\appdata\\local\\packages\\pythonsoftwarefoundation.python.3.10_qbz5n2kfra8p0\\localcache\\local-packages\\python310\\site-packages (from click->nltk) (0.4.6)\n"
          ]
        },
        {
          "name": "stderr",
          "output_type": "stream",
          "text": [
            "\n",
            "[notice] A new release of pip is available: 23.0.1 -> 23.3.1\n",
            "[notice] To update, run: C:\\Users\\avari\\AppData\\Local\\Microsoft\\WindowsApps\\PythonSoftwareFoundation.Python.3.10_qbz5n2kfra8p0\\python.exe -m pip install --upgrade pip\n"
          ]
        },
        {
          "name": "stdout",
          "output_type": "stream",
          "text": [
            "Requirement already satisfied: colorama in c:\\users\\avari\\appdata\\local\\packages\\pythonsoftwarefoundation.python.3.10_qbz5n2kfra8p0\\localcache\\local-packages\\python310\\site-packages (0.4.6)\n"
          ]
        },
        {
          "name": "stderr",
          "output_type": "stream",
          "text": [
            "\n",
            "[notice] A new release of pip is available: 23.0.1 -> 23.3.1\n",
            "[notice] To update, run: C:\\Users\\avari\\AppData\\Local\\Microsoft\\WindowsApps\\PythonSoftwareFoundation.Python.3.10_qbz5n2kfra8p0\\python.exe -m pip install --upgrade pip\n"
          ]
        },
        {
          "name": "stdout",
          "output_type": "stream",
          "text": [
            "Requirement already satisfied: numpy in c:\\users\\avari\\appdata\\local\\packages\\pythonsoftwarefoundation.python.3.10_qbz5n2kfra8p0\\localcache\\local-packages\\python310\\site-packages (1.26.2)"
          ]
        },
        {
          "name": "stderr",
          "output_type": "stream",
          "text": [
            "\n",
            "[notice] A new release of pip is available: 23.0.1 -> 23.3.1\n",
            "[notice] To update, run: C:\\Users\\avari\\AppData\\Local\\Microsoft\\WindowsApps\\PythonSoftwareFoundation.Python.3.10_qbz5n2kfra8p0\\python.exe -m pip install --upgrade pip\n"
          ]
        },
        {
          "name": "stdout",
          "output_type": "stream",
          "text": [
            "\n",
            "Requirement already satisfied: scikit_learn in c:\\users\\avari\\appdata\\local\\packages\\pythonsoftwarefoundation.python.3.10_qbz5n2kfra8p0\\localcache\\local-packages\\python310\\site-packages (1.3.2)\n",
            "Requirement already satisfied: joblib>=1.1.1 in c:\\users\\avari\\appdata\\local\\packages\\pythonsoftwarefoundation.python.3.10_qbz5n2kfra8p0\\localcache\\local-packages\\python310\\site-packages (from scikit_learn) (1.3.2)\n",
            "Requirement already satisfied: threadpoolctl>=2.0.0 in c:\\users\\avari\\appdata\\local\\packages\\pythonsoftwarefoundation.python.3.10_qbz5n2kfra8p0\\localcache\\local-packages\\python310\\site-packages (from scikit_learn) (3.2.0)\n",
            "Requirement already satisfied: scipy>=1.5.0 in c:\\users\\avari\\appdata\\local\\packages\\pythonsoftwarefoundation.python.3.10_qbz5n2kfra8p0\\localcache\\local-packages\\python310\\site-packages (from scikit_learn) (1.11.4)\n",
            "Requirement already satisfied: numpy<2.0,>=1.17.3 in c:\\users\\avari\\appdata\\local\\packages\\pythonsoftwarefoundation.python.3.10_qbz5n2kfra8p0\\localcache\\local-packages\\python310\\site-packages (from scikit_learn) (1.26.2)\n"
          ]
        },
        {
          "name": "stderr",
          "output_type": "stream",
          "text": [
            "\n",
            "[notice] A new release of pip is available: 23.0.1 -> 23.3.1\n",
            "[notice] To update, run: C:\\Users\\avari\\AppData\\Local\\Microsoft\\WindowsApps\\PythonSoftwareFoundation.Python.3.10_qbz5n2kfra8p0\\python.exe -m pip install --upgrade pip\n"
          ]
        },
        {
          "name": "stdout",
          "output_type": "stream",
          "text": [
            "Requirement already satisfied: Flask in c:\\users\\avari\\appdata\\local\\packages\\pythonsoftwarefoundation.python.3.10_qbz5n2kfra8p0\\localcache\\local-packages\\python310\\site-packages (3.0.0)\n",
            "Requirement already satisfied: blinker>=1.6.2 in c:\\users\\avari\\appdata\\local\\packages\\pythonsoftwarefoundation.python.3.10_qbz5n2kfra8p0\\localcache\\local-packages\\python310\\site-packages (from Flask) (1.7.0)\n",
            "Requirement already satisfied: click>=8.1.3 in c:\\users\\avari\\appdata\\local\\packages\\pythonsoftwarefoundation.python.3.10_qbz5n2kfra8p0\\localcache\\local-packages\\python310\\site-packages (from Flask) (8.1.7)\n",
            "Requirement already satisfied: itsdangerous>=2.1.2 in c:\\users\\avari\\appdata\\local\\packages\\pythonsoftwarefoundation.python.3.10_qbz5n2kfra8p0\\localcache\\local-packages\\python310\\site-packages (from Flask) (2.1.2)\n",
            "Requirement already satisfied: Jinja2>=3.1.2 in c:\\users\\avari\\appdata\\local\\packages\\pythonsoftwarefoundation.python.3.10_qbz5n2kfra8p0\\localcache\\local-packages\\python310\\site-packages (from Flask) (3.1.2)\n",
            "Requirement already satisfied: Werkzeug>=3.0.0 in c:\\users\\avari\\appdata\\local\\packages\\pythonsoftwarefoundation.python.3.10_qbz5n2kfra8p0\\localcache\\local-packages\\python310\\site-packages (from Flask) (3.0.1)\n",
            "Requirement already satisfied: colorama in c:\\users\\avari\\appdata\\local\\packages\\pythonsoftwarefoundation.python.3.10_qbz5n2kfra8p0\\localcache\\local-packages\\python310\\site-packages (from click>=8.1.3->Flask) (0.4.6)\n",
            "Requirement already satisfied: MarkupSafe>=2.0 in c:\\users\\avari\\appdata\\local\\packages\\pythonsoftwarefoundation.python.3.10_qbz5n2kfra8p0\\localcache\\local-packages\\python310\\site-packages (from Jinja2>=3.1.2->Flask) (2.1.3)\n"
          ]
        },
        {
          "name": "stderr",
          "output_type": "stream",
          "text": [
            "\n",
            "[notice] A new release of pip is available: 23.0.1 -> 23.3.1\n",
            "[notice] To update, run: C:\\Users\\avari\\AppData\\Local\\Microsoft\\WindowsApps\\PythonSoftwareFoundation.Python.3.10_qbz5n2kfra8p0\\python.exe -m pip install --upgrade pip\n"
          ]
        },
        {
          "name": "stdout",
          "output_type": "stream",
          "text": [
            "Requirement already satisfied: matplotlib in c:\\users\\avari\\appdata\\local\\packages\\pythonsoftwarefoundation.python.3.10_qbz5n2kfra8p0\\localcache\\local-packages\\python310\\site-packages (3.8.2)\n",
            "Requirement already satisfied: kiwisolver>=1.3.1 in c:\\users\\avari\\appdata\\local\\packages\\pythonsoftwarefoundation.python.3.10_qbz5n2kfra8p0\\localcache\\local-packages\\python310\\site-packages (from matplotlib) (1.4.5)\n",
            "Requirement already satisfied: python-dateutil>=2.7 in c:\\users\\avari\\appdata\\local\\packages\\pythonsoftwarefoundation.python.3.10_qbz5n2kfra8p0\\localcache\\local-packages\\python310\\site-packages (from matplotlib) (2.8.2)\n",
            "Requirement already satisfied: contourpy>=1.0.1 in c:\\users\\avari\\appdata\\local\\packages\\pythonsoftwarefoundation.python.3.10_qbz5n2kfra8p0\\localcache\\local-packages\\python310\\site-packages (from matplotlib) (1.2.0)\n",
            "Requirement already satisfied: packaging>=20.0 in c:\\users\\avari\\appdata\\local\\packages\\pythonsoftwarefoundation.python.3.10_qbz5n2kfra8p0\\localcache\\local-packages\\python310\\site-packages (from matplotlib) (23.2)\n",
            "Requirement already satisfied: fonttools>=4.22.0 in c:\\users\\avari\\appdata\\local\\packages\\pythonsoftwarefoundation.python.3.10_qbz5n2kfra8p0\\localcache\\local-packages\\python310\\site-packages (from matplotlib) (4.46.0)\n",
            "Requirement already satisfied: pillow>=8 in c:\\users\\avari\\appdata\\local\\packages\\pythonsoftwarefoundation.python.3.10_qbz5n2kfra8p0\\localcache\\local-packages\\python310\\site-packages (from matplotlib) (10.1.0)\n",
            "Requirement already satisfied: pyparsing>=2.3.1 in c:\\users\\avari\\appdata\\local\\packages\\pythonsoftwarefoundation.python.3.10_qbz5n2kfra8p0\\localcache\\local-packages\\python310\\site-packages (from matplotlib) (3.1.1)\n",
            "Requirement already satisfied: cycler>=0.10 in c:\\users\\avari\\appdata\\local\\packages\\pythonsoftwarefoundation.python.3.10_qbz5n2kfra8p0\\localcache\\local-packages\\python310\\site-packages (from matplotlib) (0.12.1)\n",
            "Requirement already satisfied: numpy<2,>=1.21 in c:\\users\\avari\\appdata\\local\\packages\\pythonsoftwarefoundation.python.3.10_qbz5n2kfra8p0\\localcache\\local-packages\\python310\\site-packages (from matplotlib) (1.26.2)\n",
            "Requirement already satisfied: six>=1.5 in c:\\users\\avari\\appdata\\local\\packages\\pythonsoftwarefoundation.python.3.10_qbz5n2kfra8p0\\localcache\\local-packages\\python310\\site-packages (from python-dateutil>=2.7->matplotlib) (1.16.0)\n"
          ]
        },
        {
          "name": "stderr",
          "output_type": "stream",
          "text": [
            "\n",
            "[notice] A new release of pip is available: 23.0.1 -> 23.3.1\n",
            "[notice] To update, run: C:\\Users\\avari\\AppData\\Local\\Microsoft\\WindowsApps\\PythonSoftwareFoundation.Python.3.10_qbz5n2kfra8p0\\python.exe -m pip install --upgrade pip\n"
          ]
        }
      ],
      "source": [
        "!pip install tensorflow\n",
        "!pip install nltk\n",
        "!pip install colorama\n",
        "!pip install numpy\n",
        "!pip install scikit_learn\n",
        "!pip install Flask\n",
        "!pip install matplotlib"
      ]
    },
    {
      "cell_type": "code",
      "execution_count": 13,
      "metadata": {
        "id": "eoRj_Yf1SndJ"
      },
      "outputs": [],
      "source": [
        "import json\n",
        "import tensorflow as tf\n",
        "from tensorflow import keras\n",
        "import numpy as np\n",
        "from tensorflow.keras.models import Sequential\n",
        "from tensorflow.keras.layers import Dense, Embedding, GlobalAveragePooling1D\n",
        "from tensorflow.keras.preprocessing.text import Tokenizer\n",
        "from tensorflow.keras.preprocessing.sequence import pad_sequences\n",
        "from sklearn.preprocessing import LabelEncoder\n",
        "import matplotlib.pyplot as plt"
      ]
    },
    {
      "cell_type": "code",
      "execution_count": 14,
      "metadata": {
        "id": "8LhhW9DIS6ee"
      },
      "outputs": [],
      "source": [
        "with open('C:/Users/avari/OneDrive/Documents/AI Final Project/intents.json') as file:\n",
        "    data = json.load(file)\n",
        "\n",
        "training_sentences = []\n",
        "training_labels = []\n",
        "labels = []\n",
        "responses = []\n",
        "\n",
        "\n",
        "for intent in data['intents']:\n",
        "    for pattern in intent['patterns']:\n",
        "        training_sentences.append(pattern)\n",
        "        training_labels.append(intent['tag'])\n",
        "    responses.append(intent['responses'])\n",
        "\n",
        "    if intent['tag'] not in labels:\n",
        "        labels.append(intent['tag'])\n",
        "\n",
        "num_classes = len(labels)"
      ]
    },
    {
      "cell_type": "code",
      "execution_count": 15,
      "metadata": {
        "id": "T7r9aK-1TAq8"
      },
      "outputs": [],
      "source": [
        "lbl_encoder = LabelEncoder()\n",
        "lbl_encoder.fit(training_labels)\n",
        "training_labels = lbl_encoder.transform(training_labels)"
      ]
    },
    {
      "cell_type": "code",
      "execution_count": 16,
      "metadata": {
        "id": "t3URjQDCTEQ3"
      },
      "outputs": [],
      "source": [
        "vocab_size = 45000\n",
        "embedding_dim = 350\n",
        "max_len = 20\n",
        "oov_token = \"<OOV>\"\n",
        "\n",
        "tokenizer = Tokenizer(num_words=vocab_size, oov_token=oov_token)\n",
        "tokenizer.fit_on_texts(training_sentences)\n",
        "word_index = tokenizer.word_index\n",
        "sequences = tokenizer.texts_to_sequences(training_sentences)\n",
        "padded_sequences = pad_sequences(sequences, truncating='post', maxlen=max_len)"
      ]
    },
    {
      "cell_type": "code",
      "execution_count": 17,
      "metadata": {
        "colab": {
          "base_uri": "https://localhost:8080/"
        },
        "id": "SQUNNTLMTGuQ",
        "outputId": "03ca2f51-50f0-4ec4-a411-07204bf3b40b"
      },
      "outputs": [
        {
          "name": "stdout",
          "output_type": "stream",
          "text": [
            "Model: \"sequential_1\"\n",
            "_________________________________________________________________\n",
            " Layer (type)                Output Shape              Param #   \n",
            "=================================================================\n",
            " embedding_1 (Embedding)     (None, 20, 350)           15750000  \n",
            "                                                                 \n",
            " global_average_pooling1d_1  (None, 350)               0         \n",
            "  (GlobalAveragePooling1D)                                       \n",
            "                                                                 \n",
            " dense_3 (Dense)             (None, 300)               105300    \n",
            "                                                                 \n",
            " dense_4 (Dense)             (None, 300)               90300     \n",
            "                                                                 \n",
            " dense_5 (Dense)             (None, 28)                8428      \n",
            "                                                                 \n",
            "=================================================================\n",
            "Total params: 15954028 (60.86 MB)\n",
            "Trainable params: 15954028 (60.86 MB)\n",
            "Non-trainable params: 0 (0.00 Byte)\n",
            "_________________________________________________________________\n"
          ]
        }
      ],
      "source": [
        "# Model Testing\n",
        "model = Sequential()\n",
        "model.add(Embedding(vocab_size, embedding_dim, input_length=max_len))\n",
        "model.add(GlobalAveragePooling1D())\n",
        "model.add(Dense(300, activation='relu'))\n",
        "model.add(Dense(300, activation='relu'))\n",
        "model.add(Dense(num_classes, activation='softmax'))\n",
        "\n",
        "model.compile(loss='sparse_categorical_crossentropy',\n",
        "              optimizer='adam', metrics=['accuracy'])\n",
        "\n",
        "model.summary()"
      ]
    },
    {
      "cell_type": "code",
      "execution_count": 18,
      "metadata": {},
      "outputs": [],
      "source": [
        "# Define EarlyStopping callback to monitor both training loss and accuracy\n",
        "early_stopping = keras.callbacks.EarlyStopping(\n",
        "    monitor='loss',  # Monitor training loss\n",
        "    patience=10,  # Wait for 10 epochs with no improvement\n",
        "    restore_best_weights=True\n",
        ")"
      ]
    },
    {
      "cell_type": "code",
      "execution_count": 19,
      "metadata": {
        "colab": {
          "base_uri": "https://localhost:8080/"
        },
        "id": "jBD63lwYTPmb",
        "outputId": "ced9cd52-ff8c-499b-b354-d0a3c6032736"
      },
      "outputs": [
        {
          "name": "stdout",
          "output_type": "stream",
          "text": [
            "Epoch 1/200\n",
            "5/5 [==============================] - 1s 92ms/step - loss: 3.3350 - accuracy: 0.0397\n",
            "Epoch 2/200\n",
            "5/5 [==============================] - 0s 80ms/step - loss: 3.3254 - accuracy: 0.0662\n",
            "Epoch 3/200\n",
            "5/5 [==============================] - 0s 54ms/step - loss: 3.3191 - accuracy: 0.0662\n",
            "Epoch 4/200\n",
            "5/5 [==============================] - 0s 68ms/step - loss: 3.3120 - accuracy: 0.0662\n",
            "Epoch 5/200\n",
            "5/5 [==============================] - 0s 55ms/step - loss: 3.3038 - accuracy: 0.0662\n",
            "Epoch 6/200\n",
            "5/5 [==============================] - 0s 55ms/step - loss: 3.2950 - accuracy: 0.0662\n",
            "Epoch 7/200\n",
            "5/5 [==============================] - 0s 54ms/step - loss: 3.2846 - accuracy: 0.0662\n",
            "Epoch 8/200\n",
            "5/5 [==============================] - 0s 54ms/step - loss: 3.2753 - accuracy: 0.0662\n",
            "Epoch 9/200\n",
            "5/5 [==============================] - 0s 75ms/step - loss: 3.2617 - accuracy: 0.0662\n",
            "Epoch 10/200\n",
            "5/5 [==============================] - 0s 80ms/step - loss: 3.2427 - accuracy: 0.0662\n",
            "Epoch 11/200\n",
            "5/5 [==============================] - 0s 76ms/step - loss: 3.2175 - accuracy: 0.0662\n",
            "Epoch 12/200\n",
            "5/5 [==============================] - 0s 72ms/step - loss: 3.1841 - accuracy: 0.0662\n",
            "Epoch 13/200\n",
            "5/5 [==============================] - 0s 53ms/step - loss: 3.1382 - accuracy: 0.0861\n",
            "Epoch 14/200\n",
            "5/5 [==============================] - 0s 54ms/step - loss: 3.0788 - accuracy: 0.1258\n",
            "Epoch 15/200\n",
            "5/5 [==============================] - 0s 83ms/step - loss: 2.9988 - accuracy: 0.1656\n",
            "Epoch 16/200\n",
            "5/5 [==============================] - 0s 54ms/step - loss: 2.9057 - accuracy: 0.1921\n",
            "Epoch 17/200\n",
            "5/5 [==============================] - 0s 77ms/step - loss: 2.7947 - accuracy: 0.2119\n",
            "Epoch 18/200\n",
            "5/5 [==============================] - 0s 90ms/step - loss: 2.6755 - accuracy: 0.2318\n",
            "Epoch 19/200\n",
            "5/5 [==============================] - 0s 74ms/step - loss: 2.5578 - accuracy: 0.2649\n",
            "Epoch 20/200\n",
            "5/5 [==============================] - 0s 71ms/step - loss: 2.4373 - accuracy: 0.3179\n",
            "Epoch 21/200\n",
            "5/5 [==============================] - 0s 54ms/step - loss: 2.3123 - accuracy: 0.3841\n",
            "Epoch 22/200\n",
            "5/5 [==============================] - 0s 70ms/step - loss: 2.1925 - accuracy: 0.4503\n",
            "Epoch 23/200\n",
            "5/5 [==============================] - 0s 89ms/step - loss: 2.0533 - accuracy: 0.5099\n",
            "Epoch 24/200\n",
            "5/5 [==============================] - 0s 53ms/step - loss: 1.9445 - accuracy: 0.5430\n",
            "Epoch 25/200\n",
            "5/5 [==============================] - 0s 54ms/step - loss: 1.8203 - accuracy: 0.6026\n",
            "Epoch 26/200\n",
            "5/5 [==============================] - 0s 63ms/step - loss: 1.7037 - accuracy: 0.6689\n",
            "Epoch 27/200\n",
            "5/5 [==============================] - 0s 84ms/step - loss: 1.5863 - accuracy: 0.6556\n",
            "Epoch 28/200\n",
            "5/5 [==============================] - 0s 80ms/step - loss: 1.4650 - accuracy: 0.7086\n",
            "Epoch 29/200\n",
            "5/5 [==============================] - 0s 54ms/step - loss: 1.3411 - accuracy: 0.7550\n",
            "Epoch 30/200\n",
            "5/5 [==============================] - 0s 79ms/step - loss: 1.2346 - accuracy: 0.7351\n",
            "Epoch 31/200\n",
            "5/5 [==============================] - 0s 69ms/step - loss: 1.1436 - accuracy: 0.7616\n",
            "Epoch 32/200\n",
            "5/5 [==============================] - 0s 55ms/step - loss: 1.0269 - accuracy: 0.8543\n",
            "Epoch 33/200\n",
            "5/5 [==============================] - 0s 76ms/step - loss: 0.9293 - accuracy: 0.8079\n",
            "Epoch 34/200\n",
            "5/5 [==============================] - 0s 86ms/step - loss: 0.8523 - accuracy: 0.8477\n",
            "Epoch 35/200\n",
            "5/5 [==============================] - 0s 55ms/step - loss: 0.7717 - accuracy: 0.8808\n",
            "Epoch 36/200\n",
            "5/5 [==============================] - 0s 77ms/step - loss: 0.6941 - accuracy: 0.8675\n",
            "Epoch 37/200\n",
            "5/5 [==============================] - 0s 55ms/step - loss: 0.6227 - accuracy: 0.8874\n",
            "Epoch 38/200\n",
            "5/5 [==============================] - 0s 76ms/step - loss: 0.5645 - accuracy: 0.9007\n",
            "Epoch 39/200\n",
            "5/5 [==============================] - 0s 80ms/step - loss: 0.5055 - accuracy: 0.9272\n",
            "Epoch 40/200\n",
            "5/5 [==============================] - 0s 87ms/step - loss: 0.4565 - accuracy: 0.9205\n",
            "Epoch 41/200\n",
            "5/5 [==============================] - 0s 74ms/step - loss: 0.4232 - accuracy: 0.9272\n",
            "Epoch 42/200\n",
            "5/5 [==============================] - 0s 80ms/step - loss: 0.3822 - accuracy: 0.9272\n",
            "Epoch 43/200\n",
            "5/5 [==============================] - 0s 54ms/step - loss: 0.3432 - accuracy: 0.9338\n",
            "Epoch 44/200\n",
            "5/5 [==============================] - 0s 79ms/step - loss: 0.3244 - accuracy: 0.9470\n",
            "Epoch 45/200\n",
            "5/5 [==============================] - 0s 76ms/step - loss: 0.2810 - accuracy: 0.9669\n",
            "Epoch 46/200\n",
            "5/5 [==============================] - 0s 82ms/step - loss: 0.2733 - accuracy: 0.9669\n",
            "Epoch 47/200\n",
            "5/5 [==============================] - 0s 77ms/step - loss: 0.2483 - accuracy: 0.9603\n",
            "Epoch 48/200\n",
            "5/5 [==============================] - 0s 80ms/step - loss: 0.2261 - accuracy: 0.9669\n",
            "Epoch 49/200\n",
            "5/5 [==============================] - 0s 75ms/step - loss: 0.2138 - accuracy: 0.9669\n",
            "Epoch 50/200\n",
            "5/5 [==============================] - 0s 54ms/step - loss: 0.1912 - accuracy: 0.9801\n",
            "Epoch 51/200\n",
            "5/5 [==============================] - 0s 74ms/step - loss: 0.1824 - accuracy: 0.9735\n",
            "Epoch 52/200\n",
            "5/5 [==============================] - 0s 54ms/step - loss: 0.1682 - accuracy: 0.9603\n",
            "Epoch 53/200\n",
            "5/5 [==============================] - 0s 55ms/step - loss: 0.1589 - accuracy: 0.9669\n",
            "Epoch 54/200\n",
            "5/5 [==============================] - 0s 54ms/step - loss: 0.1437 - accuracy: 0.9735\n",
            "Epoch 55/200\n",
            "5/5 [==============================] - 0s 78ms/step - loss: 0.1328 - accuracy: 0.9735\n",
            "Epoch 56/200\n",
            "5/5 [==============================] - 0s 54ms/step - loss: 0.1308 - accuracy: 0.9669\n",
            "Epoch 57/200\n",
            "5/5 [==============================] - 0s 75ms/step - loss: 0.1240 - accuracy: 0.9735\n",
            "Epoch 58/200\n",
            "5/5 [==============================] - 0s 52ms/step - loss: 0.1178 - accuracy: 0.9735\n",
            "Epoch 59/200\n",
            "5/5 [==============================] - 0s 53ms/step - loss: 0.1129 - accuracy: 0.9735\n",
            "Epoch 60/200\n",
            "5/5 [==============================] - 0s 79ms/step - loss: 0.1096 - accuracy: 0.9669\n",
            "Epoch 61/200\n",
            "5/5 [==============================] - 0s 53ms/step - loss: 0.0962 - accuracy: 0.9735\n",
            "Epoch 62/200\n",
            "5/5 [==============================] - 0s 46ms/step - loss: 0.1071 - accuracy: 0.9735\n",
            "Epoch 63/200\n",
            "5/5 [==============================] - 0s 46ms/step - loss: 0.1064 - accuracy: 0.9669\n",
            "Epoch 64/200\n",
            "5/5 [==============================] - 0s 54ms/step - loss: 0.0916 - accuracy: 0.9669\n",
            "Epoch 65/200\n",
            "5/5 [==============================] - 0s 89ms/step - loss: 0.0867 - accuracy: 0.9735\n",
            "Epoch 66/200\n",
            "5/5 [==============================] - 0s 55ms/step - loss: 0.0838 - accuracy: 0.9735\n",
            "Epoch 67/200\n",
            "5/5 [==============================] - 0s 54ms/step - loss: 0.0781 - accuracy: 0.9669\n",
            "Epoch 68/200\n",
            "5/5 [==============================] - 0s 84ms/step - loss: 0.0745 - accuracy: 0.9735\n",
            "Epoch 69/200\n",
            "5/5 [==============================] - 0s 65ms/step - loss: 0.0760 - accuracy: 0.9669\n",
            "Epoch 70/200\n",
            "5/5 [==============================] - 0s 55ms/step - loss: 0.0703 - accuracy: 0.9669\n",
            "Epoch 71/200\n",
            "5/5 [==============================] - 0s 73ms/step - loss: 0.0781 - accuracy: 0.9536\n",
            "Epoch 72/200\n",
            "5/5 [==============================] - 0s 53ms/step - loss: 0.0684 - accuracy: 0.9735\n",
            "Epoch 73/200\n",
            "5/5 [==============================] - 0s 76ms/step - loss: 0.0669 - accuracy: 0.9669\n",
            "Epoch 74/200\n",
            "5/5 [==============================] - 0s 46ms/step - loss: 0.0738 - accuracy: 0.9801\n",
            "Epoch 75/200\n",
            "5/5 [==============================] - 0s 54ms/step - loss: 0.0614 - accuracy: 0.9735\n",
            "Epoch 76/200\n",
            "5/5 [==============================] - 0s 46ms/step - loss: 0.0727 - accuracy: 0.9801\n",
            "Epoch 77/200\n",
            "5/5 [==============================] - 0s 46ms/step - loss: 0.0716 - accuracy: 0.9735\n",
            "Epoch 78/200\n",
            "5/5 [==============================] - 0s 45ms/step - loss: 0.0783 - accuracy: 0.9603\n",
            "Epoch 79/200\n",
            "5/5 [==============================] - 0s 53ms/step - loss: 0.0580 - accuracy: 0.9801\n",
            "Epoch 80/200\n",
            "5/5 [==============================] - 0s 45ms/step - loss: 0.0692 - accuracy: 0.9735\n",
            "Epoch 81/200\n",
            "5/5 [==============================] - 0s 57ms/step - loss: 0.0555 - accuracy: 0.9801\n",
            "Epoch 82/200\n",
            "5/5 [==============================] - 0s 72ms/step - loss: 0.0687 - accuracy: 0.9735\n",
            "Epoch 83/200\n",
            "5/5 [==============================] - 0s 45ms/step - loss: 0.0735 - accuracy: 0.9669\n",
            "Epoch 84/200\n",
            "5/5 [==============================] - 0s 46ms/step - loss: 0.0589 - accuracy: 0.9735\n",
            "Epoch 85/200\n",
            "5/5 [==============================] - 0s 45ms/step - loss: 0.0705 - accuracy: 0.9735\n",
            "Epoch 86/200\n",
            "5/5 [==============================] - 0s 54ms/step - loss: 0.0494 - accuracy: 0.9934\n",
            "Epoch 87/200\n",
            "5/5 [==============================] - 0s 46ms/step - loss: 0.0703 - accuracy: 0.9735\n",
            "Epoch 88/200\n",
            "5/5 [==============================] - 0s 46ms/step - loss: 0.0577 - accuracy: 0.9801\n",
            "Epoch 89/200\n",
            "5/5 [==============================] - 0s 45ms/step - loss: 0.0595 - accuracy: 0.9735\n",
            "Epoch 90/200\n",
            "5/5 [==============================] - 0s 45ms/step - loss: 0.0551 - accuracy: 0.9735\n",
            "Epoch 91/200\n",
            "5/5 [==============================] - 0s 45ms/step - loss: 0.0525 - accuracy: 0.9669\n",
            "Epoch 92/200\n",
            "5/5 [==============================] - 0s 45ms/step - loss: 0.0511 - accuracy: 0.9801\n",
            "Epoch 93/200\n",
            "5/5 [==============================] - 0s 46ms/step - loss: 0.0508 - accuracy: 0.9735\n",
            "Epoch 94/200\n",
            "5/5 [==============================] - 0s 46ms/step - loss: 0.0530 - accuracy: 0.9669\n",
            "Epoch 95/200\n",
            "5/5 [==============================] - 0s 46ms/step - loss: 0.0553 - accuracy: 0.9603\n",
            "Epoch 96/200\n",
            "5/5 [==============================] - 0s 61ms/step - loss: 0.0464 - accuracy: 0.9801\n",
            "Epoch 97/200\n",
            "5/5 [==============================] - 0s 60ms/step - loss: 0.0479 - accuracy: 0.9801\n",
            "Epoch 98/200\n",
            "5/5 [==============================] - 0s 46ms/step - loss: 0.0534 - accuracy: 0.9735\n",
            "Epoch 99/200\n",
            "5/5 [==============================] - 0s 55ms/step - loss: 0.0461 - accuracy: 0.9801\n",
            "Epoch 100/200\n",
            "5/5 [==============================] - 0s 65ms/step - loss: 0.0483 - accuracy: 0.9735\n",
            "Epoch 101/200\n",
            "5/5 [==============================] - 0s 46ms/step - loss: 0.0514 - accuracy: 0.9735\n",
            "Epoch 102/200\n",
            "5/5 [==============================] - 0s 46ms/step - loss: 0.0574 - accuracy: 0.9669\n",
            "Epoch 103/200\n",
            "5/5 [==============================] - 0s 60ms/step - loss: 0.0440 - accuracy: 0.9735\n",
            "Epoch 104/200\n",
            "5/5 [==============================] - 0s 46ms/step - loss: 0.0550 - accuracy: 0.9735\n",
            "Epoch 105/200\n",
            "5/5 [==============================] - 0s 45ms/step - loss: 0.0442 - accuracy: 0.9801\n",
            "Epoch 106/200\n",
            "5/5 [==============================] - 0s 46ms/step - loss: 0.0461 - accuracy: 0.9735\n",
            "Epoch 107/200\n",
            "5/5 [==============================] - 0s 54ms/step - loss: 0.0420 - accuracy: 0.9801\n",
            "Epoch 108/200\n",
            "5/5 [==============================] - 0s 45ms/step - loss: 0.0450 - accuracy: 0.9801\n",
            "Epoch 109/200\n",
            "5/5 [==============================] - 0s 46ms/step - loss: 0.0420 - accuracy: 0.9801\n",
            "Epoch 110/200\n",
            "5/5 [==============================] - 0s 47ms/step - loss: 0.0703 - accuracy: 0.9735\n",
            "Epoch 111/200\n",
            "5/5 [==============================] - 0s 46ms/step - loss: 0.0606 - accuracy: 0.9669\n",
            "Epoch 112/200\n",
            "5/5 [==============================] - 0s 46ms/step - loss: 0.0441 - accuracy: 0.9868\n",
            "Epoch 113/200\n",
            "5/5 [==============================] - 0s 46ms/step - loss: 0.0501 - accuracy: 0.9735\n",
            "Epoch 114/200\n",
            "5/5 [==============================] - 0s 57ms/step - loss: 0.0419 - accuracy: 0.9801\n",
            "Epoch 115/200\n",
            "5/5 [==============================] - 0s 53ms/step - loss: 0.0407 - accuracy: 0.9868\n",
            "Epoch 116/200\n",
            "5/5 [==============================] - 0s 46ms/step - loss: 0.0454 - accuracy: 0.9669\n",
            "Epoch 117/200\n",
            "5/5 [==============================] - 0s 46ms/step - loss: 0.0441 - accuracy: 0.9801\n",
            "Epoch 118/200\n",
            "5/5 [==============================] - 0s 56ms/step - loss: 0.0406 - accuracy: 0.9735\n",
            "Epoch 119/200\n",
            "5/5 [==============================] - 0s 53ms/step - loss: 0.0398 - accuracy: 0.9801\n",
            "Epoch 120/200\n",
            "5/5 [==============================] - 0s 45ms/step - loss: 0.0415 - accuracy: 0.9735\n",
            "Epoch 121/200\n",
            "5/5 [==============================] - 0s 46ms/step - loss: 0.0429 - accuracy: 0.9735\n",
            "Epoch 122/200\n",
            "5/5 [==============================] - 0s 46ms/step - loss: 0.0416 - accuracy: 0.9801\n",
            "Epoch 123/200\n",
            "5/5 [==============================] - 0s 46ms/step - loss: 0.0548 - accuracy: 0.9735\n",
            "Epoch 124/200\n",
            "5/5 [==============================] - 0s 55ms/step - loss: 0.0374 - accuracy: 0.9801\n",
            "Epoch 125/200\n",
            "5/5 [==============================] - 0s 57ms/step - loss: 0.0486 - accuracy: 0.9735\n",
            "Epoch 126/200\n",
            "5/5 [==============================] - 0s 46ms/step - loss: 0.0394 - accuracy: 0.9801\n",
            "Epoch 127/200\n",
            "5/5 [==============================] - 0s 45ms/step - loss: 0.0450 - accuracy: 0.9735\n",
            "Epoch 128/200\n",
            "5/5 [==============================] - 0s 46ms/step - loss: 0.0384 - accuracy: 0.9801\n",
            "Epoch 129/200\n",
            "5/5 [==============================] - 0s 46ms/step - loss: 0.0597 - accuracy: 0.9603\n",
            "Epoch 130/200\n",
            "5/5 [==============================] - 0s 46ms/step - loss: 0.0376 - accuracy: 0.9735\n",
            "Epoch 131/200\n",
            "5/5 [==============================] - 0s 46ms/step - loss: 0.0401 - accuracy: 0.9801\n",
            "Epoch 132/200\n",
            "5/5 [==============================] - 0s 46ms/step - loss: 0.0392 - accuracy: 0.9801\n",
            "Epoch 133/200\n",
            "5/5 [==============================] - 0s 46ms/step - loss: 0.0414 - accuracy: 0.9801\n",
            "Epoch 134/200\n",
            "5/5 [==============================] - 0s 56ms/step - loss: 0.0501 - accuracy: 0.9735\n"
          ]
        }
      ],
      "source": [
        "# Epochs\n",
        "epochs = 200\n",
        "history = model.fit(\n",
        "    padded_sequences, np.array(training_labels),\n",
        "    epochs=epochs,\n",
        "    callbacks=[early_stopping]\n",
        ")\n"
      ]
    },
    {
      "cell_type": "code",
      "execution_count": 20,
      "metadata": {},
      "outputs": [
        {
          "name": "stdout",
          "output_type": "stream",
          "text": [
            "Average Loss: 0.7142\n",
            "Average Accuracy: 0.8088\n"
          ]
        }
      ],
      "source": [
        "# Print average model loss and accuracy\n",
        "average_loss = np.mean(history.history['loss'])\n",
        "average_accuracy = np.mean(history.history['accuracy'])\n",
        "print(f'Average Loss: {average_loss:.4f}')\n",
        "print(f'Average Accuracy: {average_accuracy:.4f}')"
      ]
    },
    {
      "cell_type": "code",
      "execution_count": 21,
      "metadata": {},
      "outputs": [
        {
          "data": {
            "image/png": "[encoded data removed]",
            "text/plain": [
              "<Figure size 1200x600 with 2 Axes>"
            ]
          },
          "metadata": {},
          "output_type": "display_data"
        }
      ],
      "source": [
        "# Plot model loss and accuracy in one graph\n",
        "plt.figure(figsize=(12, 6))\n",
        "\n",
        "# Plot Loss\n",
        "plt.subplot(1, 2, 1)\n",
        "plt.plot(history.history['loss'], label='Training Loss')\n",
        "plt.title('Model Loss')\n",
        "plt.xlabel('Epoch')\n",
        "plt.ylabel('Loss')\n",
        "plt.legend()\n",
        "\n",
        "# Plot Accuracy\n",
        "plt.subplot(1, 2, 2)\n",
        "plt.plot(history.history['accuracy'], label='Training Accuracy', color='orange')\n",
        "plt.title('Model Accuracy')\n",
        "plt.xlabel('Epoch')\n",
        "plt.ylabel('Accuracy')\n",
        "plt.legend()\n",
        "\n",
        "# Combine both subplots into a single graph\n",
        "plt.tight_layout()\n",
        "\n",
        "plt.show()"
      ]
    },
    {
      "cell_type": "code",
      "execution_count": 22,
      "metadata": {
        "id": "I6c1o9qZTXR3"
      },
      "outputs": [
        {
          "name": "stdout",
          "output_type": "stream",
          "text": [
            "INFO:tensorflow:Assets written to: C:/Users/avari/OneDrive/Documents/AI Final Project/Test/chat_model\\assets\n"
          ]
        },
        {
          "name": "stderr",
          "output_type": "stream",
          "text": [
            "INFO:tensorflow:Assets written to: C:/Users/avari/OneDrive/Documents/AI Final Project/Test/chat_model\\assets\n"
          ]
        }
      ],
      "source": [
        "# to save the trained model\n",
        "model.save(\"C:/Users/avari/OneDrive/Documents/AI Final Project/Test/chat_model\")\n",
        "\n",
        "import pickle\n",
        "\n",
        "# to save the fitted tokenizer\n",
        "with open('C:/Users/avari/OneDrive/Documents/AI Final Project/Test/tokenizer.pickle', 'wb') as handle:\n",
        "    pickle.dump(tokenizer, handle, protocol=pickle.HIGHEST_PROTOCOL)\n",
        "\n",
        "# to save the fitted label encoder\n",
        "with open('C:/Users/avari/OneDrive/Documents/AI Final Project/Test/label_encoder.pickle', 'wb') as ecn_file:\n",
        "    pickle.dump(lbl_encoder, ecn_file, protocol=pickle.HIGHEST_PROTOCOL)"
      ]
    },
    {
      "cell_type": "code",
      "execution_count": 23,
      "metadata": {
        "colab": {
          "base_uri": "https://localhost:8080/"
        },
        "id": "O25JESSMTnAc",
        "outputId": "abb9f6ad-b9d3-47e2-9124-b8ebf638295e"
      },
      "outputs": [
        {
          "name": "stdout",
          "output_type": "stream",
          "text": [
            "Start messaging with the bot (type quit to stop)!\n",
            "1/1 [==============================] - 0s 43ms/step\n",
            "Companion Bot: Greetings! I'm here to chat and support you. How are you doing?\n",
            "1/1 [==============================] - 0s 16ms/step\n",
            "Companion Bot: I love hearing about exciting moments! What's making you feel so thrilled?\n",
            "1/1 [==============================] - 0s 17ms/step\n",
            "Companion Bot: My pleasure! Your well-being is important, and I'm here for you.\n",
            "1/1 [==============================] - 0s 17ms/step\n",
            "Companion Bot: Despite challenges, your sense of hope is inspiring. Share the aspects of the future that you're feeling optimistic about.\n",
            "1/1 [==============================] - 0s 16ms/step\n",
            "Companion Bot: I'm grateful for the opportunity to assist you. If there's anything specific you'd like to talk about, feel free to share.\n",
            "1/1 [==============================] - 0s 20ms/step\n",
            "Companion Bot: Thank you for your kind words! I'm here to assist you whenever you need.\n",
            "1/1 [==============================] - 0s 16ms/step\n",
            "Companion Bot: Farewell! Remember, I'm here whenever you want to reach out. Take care!\n",
            "User: "
          ]
        }
      ],
      "source": [
        "import json\n",
        "import numpy as np\n",
        "from tensorflow import keras\n",
        "from sklearn.preprocessing import LabelEncoder\n",
        "\n",
        "import colorama\n",
        "colorama.init()\n",
        "from colorama import Fore, Style, Back\n",
        "\n",
        "import random\n",
        "import pickle\n",
        "\n",
        "with open(\"C:/Users/avari/OneDrive/Documents/AI Final Project/intents.json\") as file:\n",
        "    data = json.load(file)\n",
        "\n",
        "\n",
        "def chat():\n",
        "    # load trained model\n",
        "    model = keras.models.load_model('C:/Users/avari/OneDrive/Documents/AI Final Project/Test/chat_model')\n",
        "\n",
        "    # load tokenizer object\n",
        "    with open('C:/Users/avari/OneDrive/Documents/AI Final Project/Test/tokenizer.pickle', 'rb') as handle:\n",
        "        tokenizer = pickle.load(handle)\n",
        "\n",
        "    # load label encoder object\n",
        "    with open('C:/Users/avari/OneDrive/Documents/AI Final Project/Test/label_encoder.pickle', 'rb') as enc:\n",
        "        lbl_encoder = pickle.load(enc)\n",
        "\n",
        "    # parameters\n",
        "    max_len = 20\n",
        "\n",
        "    while True:\n",
        "        print(Fore.LIGHTBLUE_EX + \"User: \" + Style.RESET_ALL, end=\"\")\n",
        "        inp = input()\n",
        "        if inp.lower() == \"quit\":\n",
        "            break\n",
        "\n",
        "        result = model.predict(keras.preprocessing.sequence.pad_sequences(tokenizer.texts_to_sequences([inp]),\n",
        "                                             truncating='post', maxlen=max_len))\n",
        "        tag = lbl_encoder.inverse_transform([np.argmax(result)])[0]\n",
        "\n",
        "        intent_found = False\n",
        "        for i in data['intents']:\n",
        "            if i['tag'] == tag:\n",
        "                print(Fore.GREEN + \"Companion Bot:\" + Style.RESET_ALL, np.random.choice(i['responses']))\n",
        "                intent_found = True\n",
        "                break\n",
        "\n",
        "        if not intent_found:\n",
        "            default_response = \"Sorry, I couldn't catch that, can you repeat please?\"\n",
        "            print(Fore.RED + \"Companion Bot:\" + Style.RESET_ALL, default_response)\n",
        "\n",
        "# Add a welcome message\n",
        "print(Fore.YELLOW + \"Start messaging with the bot (type quit to stop)!\" + Style.RESET_ALL)\n",
        "\n",
        "# Start the chat\n",
        "chat()"
      ]
    }
  ],
  "metadata": {
    "colab": {
      "provenance": []
    },
    "kernelspec": {
      "display_name": "Python 3",
      "name": "python3"
    },
    "language_info": {
      "codemirror_mode": {
        "name": "ipython",
        "version": 3
      },
      "file_extension": ".py",
      "mimetype": "text/x-python",
      "name": "python",
      "nbconvert_exporter": "python",
      "pygments_lexer": "ipython3",
      "version": "3.10.11"
    }
  },
  "nbformat": 4,
  "nbformat_minor": 0
}
